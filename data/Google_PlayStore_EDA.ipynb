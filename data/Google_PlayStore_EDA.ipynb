{
 "cells": [
  {
   "cell_type": "markdown",
   "id": "eb98e3f3-3bdf-4cfc-a165-4c28a43af115",
   "metadata": {},
   "source": [
    "# 📊 Exploratory Data Analysis on Google Play Store Dataset"
   ]
  },
  {
   "cell_type": "markdown",
   "id": "f77f13a1-ff7f-4e5e-bf16-94a9be0aa343",
   "metadata": {},
   "source": [
    "- This notebook performs exploratory data analysis (EDA) on a dataset of over 10,000 Android apps listed on the Google Play Store.\n",
    "- The goal is to understand app trends, clean the data, and uncover patterns in ratings, installs, and other features."
   ]
  },
  {
   "cell_type": "code",
   "execution_count": null,
   "id": "8b89a5dc-2536-4f56-a671-2e40ae2555f5",
   "metadata": {},
   "outputs": [],
   "source": [
    "import pandas as pd\n",
    "import numpy as np"
   ]
  },
  {
   "cell_type": "code",
   "execution_count": null,
   "id": "4f8541eb-3838-41e5-bcc9-09ff6275f542",
   "metadata": {},
   "outputs": [],
   "source": [
    "# load the dataset\n",
    "data = pd.read_csv('google_playstore_dataset_raw.csv') "
   ]
  },
  {
   "cell_type": "code",
   "execution_count": null,
   "id": "92b2fbfd-b3fe-4d24-bf0d-8eb6290c6f55",
   "metadata": {},
   "outputs": [],
   "source": [
    "data.head(10)"
   ]
  },
  {
   "cell_type": "code",
   "execution_count": null,
   "id": "e8dd0ec2-fec2-4377-a1d4-1602ed6770fb",
   "metadata": {},
   "outputs": [],
   "source": [
    "data['App']"
   ]
  },
  {
   "cell_type": "code",
   "execution_count": null,
   "id": "e38995d8-fb09-4a90-a638-7f5c5ae0363e",
   "metadata": {},
   "outputs": [],
   "source": [
    "data.isnull()"
   ]
  },
  {
   "cell_type": "code",
   "execution_count": null,
   "id": "66e25749-66f0-48ff-99df-9c02914b93f5",
   "metadata": {},
   "outputs": [],
   "source": [
    "data.isnull().sum()"
   ]
  },
  {
   "cell_type": "code",
   "execution_count": null,
   "id": "32c8ac34-fb54-4a76-89be-cb4b51b7c9fa",
   "metadata": {},
   "outputs": [],
   "source": [
    "df = data.dropna()"
   ]
  },
  {
   "cell_type": "code",
   "execution_count": null,
   "id": "b3baf4a0-517a-4092-bb80-8fb6f28c022f",
   "metadata": {},
   "outputs": [],
   "source": [
    "df.isnull().sum()"
   ]
  },
  {
   "cell_type": "markdown",
   "id": "e4622dc7-df49-4935-aeb9-d38784486885",
   "metadata": {},
   "source": [
    "# Removing Null Values – Categorical"
   ]
  },
  {
   "cell_type": "markdown",
   "id": "e57c339b-5fc8-47ee-8769-6f2c102d89e6",
   "metadata": {},
   "source": [
    "## Step 1: Handling Missing Values in Numeric Columns\n",
    "Identifying and removing null values in key numeric fields to ensure accurate statistical analysis."
   ]
  },
  {
   "cell_type": "code",
   "execution_count": null,
   "id": "44b3e279-f4c9-4328-a91f-19920b6b9a70",
   "metadata": {},
   "outputs": [],
   "source": [
    "data = pd.read_csv('google_playstore_dataset_raw.csv').dropna()\n",
    "data"
   ]
  },
  {
   "cell_type": "markdown",
   "id": "d5f31b85-26c7-488d-bc25-dfafc8247c4f",
   "metadata": {},
   "source": [
    "## Step 2: Calculating the Average App Rating\n",
    "Computed the overall average user rating across all apps in the dataset."
   ]
  },
  {
   "cell_type": "code",
   "execution_count": null,
   "id": "040af3a4-b7b6-4225-ad7f-fdfad3a0571c",
   "metadata": {},
   "outputs": [],
   "source": [
    "data['Rating']"
   ]
  },
  {
   "cell_type": "code",
   "execution_count": null,
   "id": "4538650f-091c-4b09-8fd1-127f5a518745",
   "metadata": {},
   "outputs": [],
   "source": [
    "round(int(sum(data['Rating']))/9360,2)"
   ]
  },
  {
   "cell_type": "code",
   "execution_count": null,
   "id": "1a7e0404-dd24-449c-b1b7-b435169ec5a6",
   "metadata": {},
   "outputs": [],
   "source": [
    "s = 0\n",
    "for i in data['Rating']:\n",
    "    s += i\n",
    "s = int(s)\n",
    "print(s)"
   ]
  },
  {
   "cell_type": "code",
   "execution_count": null,
   "id": "d1e7c1a3-890b-4ac6-ba89-658b2c06d623",
   "metadata": {},
   "outputs": [],
   "source": [
    "int(sum(data['Rating']))"
   ]
  },
  {
   "cell_type": "code",
   "execution_count": null,
   "id": "d63e9da4-3bf4-4263-9f16-c90562842d2f",
   "metadata": {},
   "outputs": [],
   "source": [
    "len(data['Rating'])"
   ]
  },
  {
   "cell_type": "code",
   "execution_count": null,
   "id": "df275dbe-0905-430d-8b1d-aaba52b4b6f0",
   "metadata": {},
   "outputs": [],
   "source": [
    "round(int(sum(data['Rating']))/len(data['Rating']),2)"
   ]
  },
  {
   "cell_type": "code",
   "execution_count": null,
   "id": "5f538ddb-3b96-4d68-81b5-35d5c16436bf",
   "metadata": {},
   "outputs": [],
   "source": [
    "print(\"Avg rating of these apps : \", round(int(sum(data['Rating']))/len(data['Rating']),2))"
   ]
  },
  {
   "cell_type": "markdown",
   "id": "dd1a1c49-0816-4fbc-bd61-b02813701cc9",
   "metadata": {},
   "source": [
    "## Step 3: Counting Apps with Perfect Ratings\n",
    "Determined the total number of apps that received a perfect rating of 5.0 from users."
   ]
  },
  {
   "cell_type": "code",
   "execution_count": null,
   "id": "fcfaecac-85f5-46a7-9346-330e6cd4e80f",
   "metadata": {},
   "outputs": [],
   "source": [
    "data['Rating']"
   ]
  },
  {
   "cell_type": "code",
   "execution_count": null,
   "id": "2b9fbfc6-d507-4284-a4ed-fc432da009a4",
   "metadata": {},
   "outputs": [],
   "source": [
    "c = 0\n",
    "for i in data['Rating']:\n",
    "    if(i == 5.0):\n",
    "        c += 1\n",
    "print(\"there are\",c,\"many applications with rating 5\")"
   ]
  },
  {
   "cell_type": "markdown",
   "id": "0c31bf39-a597-4d40-952c-87bd248bce14",
   "metadata": {},
   "source": [
    "## Step 4: Analyzing Rating Distributions Between 4.0–4.5 and 4.0–5.0\n",
    "Filtered and counted apps with ratings within specified ranges to assess popularity and trustworthiness."
   ]
  },
  {
   "cell_type": "code",
   "execution_count": null,
   "id": "e9849105-1ea0-482c-91b8-b722cef2c950",
   "metadata": {},
   "outputs": [],
   "source": [
    "c = 0\n",
    "for i in data['Rating']:\n",
    "    if(i>=4.0 and i<=5.0):\n",
    "        c +=1\n",
    "print(c)\n"
   ]
  },
  {
   "cell_type": "code",
   "execution_count": null,
   "id": "8af92d4d-8be4-4f79-9995-66f228e06507",
   "metadata": {},
   "outputs": [],
   "source": [
    "c = 0\n",
    "for i in data['Rating']:\n",
    "    if(i>=4.0 and i<=4.5):\n",
    "        c +=1\n",
    "print(c)\n"
   ]
  },
  {
   "cell_type": "markdown",
   "id": "71a1c081-1030-42e6-9eb9-d8f842f3b00b",
   "metadata": {},
   "source": [
    "## Step 5: Calculating the Average Number of User Reviews\n",
    "Analyzed the distribution and average count of user-submitted reviews per app."
   ]
  },
  {
   "cell_type": "code",
   "execution_count": null,
   "id": "cfbdcc69-7d1d-473d-8ba0-917d88c1cdf5",
   "metadata": {},
   "outputs": [],
   "source": [
    "s = 0\n",
    "for i in data['Reviews']:\n",
    "    s += int(i)\n",
    "print(int(s/len(data['Rating'])))"
   ]
  },
  {
   "cell_type": "markdown",
   "id": "1dbd97b6-2791-4742-be12-367dbe81e45a",
   "metadata": {},
   "source": [
    "# Removing Null Values - CATEGORICAL"
   ]
  },
  {
   "cell_type": "code",
   "execution_count": null,
   "id": "293033e3-b218-44c9-bb5b-54d8c36aca00",
   "metadata": {},
   "outputs": [],
   "source": [
    "df = pd.read_csv('google_playstore_dataset_raw.csv').dropna()"
   ]
  },
  {
   "cell_type": "code",
   "execution_count": null,
   "id": "847f36e5-6a1a-4e65-9119-e8df257c22eb",
   "metadata": {},
   "outputs": [],
   "source": [
    "df.head(5)"
   ]
  },
  {
   "cell_type": "markdown",
   "id": "817628e3-56b6-40bd-933e-5256d0c0efe3",
   "metadata": {},
   "source": [
    "# Q1: How many unique app categories are present in the dataset"
   ]
  },
  {
   "cell_type": "code",
   "execution_count": null,
   "id": "39d4241f-845b-4379-a45a-0ce8f3327ae4",
   "metadata": {},
   "outputs": [],
   "source": [
    "df['Category'].unique()"
   ]
  },
  {
   "cell_type": "code",
   "execution_count": null,
   "id": "d8027a6c-7d60-4267-96c6-ea2358a36776",
   "metadata": {},
   "outputs": [],
   "source": [
    "# for i in df['Category'].unique():\n",
    "#     print(i)"
   ]
  },
  {
   "cell_type": "code",
   "execution_count": null,
   "id": "91c382c2-de08-43cf-a4f3-902c632eec16",
   "metadata": {},
   "outputs": [],
   "source": [
    "len(df['Category'].unique())"
   ]
  },
  {
   "cell_type": "markdown",
   "id": "7bba58f0-d915-4d9a-9ed3-c9f1d878d8d0",
   "metadata": {},
   "source": [
    "# Q2: How many applications belong to the \"ART_AND_DESIGN\" category?"
   ]
  },
  {
   "cell_type": "code",
   "execution_count": null,
   "id": "96f7e33b-3228-442c-a035-937733f66840",
   "metadata": {},
   "outputs": [],
   "source": [
    "c = 0\n",
    "for i in df['Category']:\n",
    "    if(i == 'ART_AND_DESIGN'):\n",
    "        c +=1\n",
    "print(c)"
   ]
  },
  {
   "cell_type": "markdown",
   "id": "39ac811f-cc1a-4078-9ebc-524f9cf28d3f",
   "metadata": {},
   "source": [
    "# Q3: What types of apps are available on the Play Store?"
   ]
  },
  {
   "cell_type": "code",
   "execution_count": null,
   "id": "d149c5d5-a5fd-45df-9f49-291d76ed5015",
   "metadata": {},
   "outputs": [],
   "source": [
    "data = df"
   ]
  },
  {
   "cell_type": "code",
   "execution_count": null,
   "id": "5c176edb-c3c7-4b8b-9591-659e6730ba5b",
   "metadata": {},
   "outputs": [],
   "source": [
    "data['Type'].unique()"
   ]
  },
  {
   "cell_type": "markdown",
   "id": "65221121-ff21-4f2c-ba65-663e13575628",
   "metadata": {},
   "source": [
    "#  Q4: What is the distribution of Free and Paid applications?"
   ]
  },
  {
   "cell_type": "code",
   "execution_count": null,
   "id": "4168ebd7-21a2-4354-97ad-e104e3a87c6c",
   "metadata": {},
   "outputs": [],
   "source": [
    "f = 0\n",
    "for i in data['Type']:\n",
    "    if(i == 'Free'):\n",
    "        f +=1\n",
    "print(\"there are\",f,\"free and\",end=' ')\n",
    "\n",
    "p = 0\n",
    "for i in data['Type']:\n",
    "    if(i == 'Paid'):\n",
    "        p +=1\n",
    "print(\"and\",p,\"paid application\")"
   ]
  },
  {
   "cell_type": "markdown",
   "id": "43a2d247-0b55-46a9-a4a4-c4cccefb4290",
   "metadata": {},
   "source": [
    "# Q5: What percentage of apps in the dataset are free?"
   ]
  },
  {
   "cell_type": "code",
   "execution_count": null,
   "id": "10dcf0bc-ebe6-4b6a-920a-c669896b3f18",
   "metadata": {},
   "outputs": [],
   "source": [
    "print(int(f/(f + p)*100),\"% applictaions are free\")"
   ]
  },
  {
   "cell_type": "markdown",
   "id": "f1d31e1d-89d4-4bb7-9d2b-493af67c853c",
   "metadata": {},
   "source": [
    "# Q6: What are the different content rating classifications in the dataset?"
   ]
  },
  {
   "cell_type": "code",
   "execution_count": null,
   "id": "53dccc53-b559-4bf3-b4aa-87d16ebe711b",
   "metadata": {},
   "outputs": [],
   "source": [
    "data['Content Rating'].unique()"
   ]
  },
  {
   "cell_type": "code",
   "execution_count": null,
   "id": "eb597ff9-e6d5-4861-86c0-d30d1bd5d7f6",
   "metadata": {},
   "outputs": [],
   "source": [
    "for i in data['Content Rating'].unique():\n",
    "    print(i)"
   ]
  },
  {
   "cell_type": "markdown",
   "id": "41b8a6e9-916c-4544-9d6b-fe7c53c6e444",
   "metadata": {},
   "source": [
    "# Exploring Categories Automatically"
   ]
  },
  {
   "cell_type": "markdown",
   "id": "7ceb42bc-1cf4-4463-bbc8-cb8a0e35d967",
   "metadata": {},
   "source": [
    "Instead of manually checking the number of apps in each category by filtering them one at a time (e.g., \"ART_AND_DESIGN\", \"GAME\", etc.), i used a more efficient and scalable approach to summarize all categories at once i.e by applying the value_counts() method on the Category column."
   ]
  },
  {
   "cell_type": "code",
   "execution_count": null,
   "id": "c609284f-0f41-4322-be2d-53ed19142de9",
   "metadata": {},
   "outputs": [],
   "source": [
    "df"
   ]
  },
  {
   "cell_type": "markdown",
   "id": "fa4d765d-08c1-4aff-a0bb-69762850bb48",
   "metadata": {},
   "source": [
    " # Q1: What is the total number of apps in each category?"
   ]
  },
  {
   "cell_type": "code",
   "execution_count": null,
   "id": "8722a7b4-3032-4e71-be19-199b1fcefe18",
   "metadata": {},
   "outputs": [],
   "source": [
    "for name in df['Category'].unique():\n",
    "    ct = 0\n",
    "    for i in df['Category']:\n",
    "        if(i == name):\n",
    "            ct +=1\n",
    "    print(name, ':' ,ct)"
   ]
  },
  {
   "cell_type": "code",
   "execution_count": null,
   "id": "f9231b32-a50d-4a1f-9260-5f6d1f38a865",
   "metadata": {},
   "outputs": [],
   "source": [
    "# In Dictionary\n",
    "categories = {}\n",
    "\n",
    "for name in df['Category'].unique():\n",
    "    ct = 0\n",
    "    for i in df['Category']:\n",
    "        if(i == name):\n",
    "            ct +=1\n",
    "    categories[name] = ct"
   ]
  },
  {
   "cell_type": "code",
   "execution_count": null,
   "id": "b6a35d0a-2934-4a11-8822-abb53b32d773",
   "metadata": {},
   "outputs": [],
   "source": [
    "categories"
   ]
  },
  {
   "cell_type": "markdown",
   "id": "e2053668-f5b1-440e-8204-987723c02972",
   "metadata": {},
   "source": [
    "# Q2: How many applications belong to the \"ART_AND_DESIGN\" category?"
   ]
  },
  {
   "cell_type": "code",
   "execution_count": null,
   "id": "da248154-e895-47d9-9279-ef02121b35f8",
   "metadata": {},
   "outputs": [],
   "source": [
    "categories['ART_AND_DESIGN']"
   ]
  },
  {
   "cell_type": "code",
   "execution_count": null,
   "id": "5c93b515-e855-4de0-94fd-d5537911588e",
   "metadata": {},
   "outputs": [],
   "source": [
    "for i in df['Category'].unique():\n",
    "    print(i,categories[i])"
   ]
  },
  {
   "cell_type": "markdown",
   "id": "ee1facca-1365-4ea9-b1c0-28a494f65476",
   "metadata": {},
   "source": [
    "# Q3: What is the total number of apps by type (Free vs Paid)?"
   ]
  },
  {
   "cell_type": "code",
   "execution_count": null,
   "id": "6e0a597f-9884-42b8-80e5-051b66500b9b",
   "metadata": {},
   "outputs": [],
   "source": [
    "types = {}\n",
    "for name in df['Type'].unique():\n",
    "    ct = 0\n",
    "    for i in df['Type']:\n",
    "        if(i == name):\n",
    "            ct +=1\n",
    "    print(name, ':' ,ct)"
   ]
  },
  {
   "cell_type": "code",
   "execution_count": null,
   "id": "531189d1-a32a-4e97-ab02-084032e337a5",
   "metadata": {},
   "outputs": [],
   "source": [
    "# In Dictionary \n",
    "types = {}\n",
    "for name in df['Type'].unique():\n",
    "    ct = 0\n",
    "    for i in df['Type']:\n",
    "        if(i == name):\n",
    "            ct +=1\n",
    "    types[name] = ct\n",
    "print(types)"
   ]
  },
  {
   "cell_type": "markdown",
   "id": "1dc9672a-4396-419b-8b1d-d4b3e4e1f673",
   "metadata": {},
   "source": [
    "# Q4: What is the total number of apps for each content rating classification"
   ]
  },
  {
   "cell_type": "code",
   "execution_count": null,
   "id": "8d497ede-de8b-49d9-bb28-d8da134fb7c2",
   "metadata": {},
   "outputs": [],
   "source": [
    "content_rating = {}\n",
    "for name in df['Content Rating'].unique():\n",
    "    ct = 0\n",
    "    for i in df['Content Rating']:\n",
    "        if(i == name):\n",
    "            ct +=1\n",
    "    print(name, ':' ,ct)"
   ]
  },
  {
   "cell_type": "code",
   "execution_count": null,
   "id": "0299ae51-c9d5-4e79-b5ec-7d7d79935071",
   "metadata": {},
   "outputs": [],
   "source": [
    "# In Dictionary \n",
    "content_rating = {}\n",
    "for name in df['Content Rating'].unique():\n",
    "    ct = 0\n",
    "    for i in df['Content Rating']:\n",
    "        if(i == name):\n",
    "            ct +=1\n",
    "    content_rating[name] = ct\n",
    "print(content_rating)"
   ]
  },
  {
   "cell_type": "code",
   "execution_count": null,
   "id": "70fa17dc-7b94-4d22-a161-0cb1e26f6d73",
   "metadata": {},
   "outputs": [],
   "source": [
    "# Rating Distribution / Summary Statistics for App Ratings\n",
    "df['Rating'].describe()"
   ]
  },
  {
   "cell_type": "code",
   "execution_count": null,
   "id": "573d695f-7767-49f7-aa94-006e49a23bbf",
   "metadata": {},
   "outputs": [],
   "source": [
    "# Summary Statistics for App Type\n",
    "df['Type'].describe()"
   ]
  },
  {
   "cell_type": "code",
   "execution_count": null,
   "id": "d45c4690-7e05-4fd4-99e1-c1f969b3acb8",
   "metadata": {},
   "outputs": [],
   "source": [
    "# Summary Statistics for Content Rating\n",
    "df['Content Rating'].describe()"
   ]
  },
  {
   "cell_type": "code",
   "execution_count": null,
   "id": "e18830e4-d4f6-4622-8ea8-ed7cfdf7a664",
   "metadata": {},
   "outputs": [],
   "source": [
    "# Summary Statistics for App Categories\n",
    "df['Category'].describe()"
   ]
  },
  {
   "cell_type": "markdown",
   "id": "b3fa81f6-f443-4a31-8bdb-aea47441c2d2",
   "metadata": {},
   "source": [
    "# Handling Missing (Null) Values"
   ]
  },
  {
   "cell_type": "code",
   "execution_count": null,
   "id": "b09b68cf-ac96-457f-86b5-b9618dd98e2c",
   "metadata": {},
   "outputs": [],
   "source": [
    "import pandas as pd\n",
    "import numpy as np\n",
    "\n",
    "from sklearn.impute import SimpleImputer"
   ]
  },
  {
   "cell_type": "code",
   "execution_count": null,
   "id": "b1dc3c7e-8a22-4752-834f-04c87941c40f",
   "metadata": {},
   "outputs": [],
   "source": [
    "df = pd.read_csv('google_playstore_dataset_raw.csv')\n",
    "df"
   ]
  },
  {
   "cell_type": "code",
   "execution_count": null,
   "id": "3913df4e-723d-4d0a-b0a6-cd6ace9e14cd",
   "metadata": {},
   "outputs": [],
   "source": [
    "# missing values\n",
    "df.isnull().sum()"
   ]
  },
  {
   "cell_type": "code",
   "execution_count": null,
   "id": "3d82c823-56ba-4a13-bd20-19ddaa629a23",
   "metadata": {},
   "outputs": [],
   "source": [
    "df.iloc[ : , 2:3].values"
   ]
  },
  {
   "cell_type": "code",
   "execution_count": null,
   "id": "72a68a63-20dc-4678-b057-e133dccb84ea",
   "metadata": {},
   "outputs": [],
   "source": [
    "#  create imputer to replace NAN with mean of a column \n",
    "impute = SimpleImputer(missing_values = np.nan, strategy = 'mean')\n",
    "impute.fit(df.iloc[ : , 2:3].values) # calculates mean"
   ]
  },
  {
   "cell_type": "code",
   "execution_count": null,
   "id": "1dd6ac39-ad84-4804-8d83-d255040aac66",
   "metadata": {},
   "outputs": [],
   "source": [
    "# Replace missing values in the Rating column with the mean value computed above\n",
    "df.iloc[ : , 2:3] = impute.transform(df.iloc[ : , 2:3].values)"
   ]
  },
  {
   "cell_type": "code",
   "execution_count": null,
   "id": "a3f56c70-e38c-4858-8535-8a9ce07dced6",
   "metadata": {},
   "outputs": [],
   "source": [
    "df"
   ]
  },
  {
   "cell_type": "code",
   "execution_count": null,
   "id": "374cacc8-f305-4e90-af4e-ae0847643e66",
   "metadata": {},
   "outputs": [],
   "source": [
    "# impute = SimpleImputer(missing_values = np.nan, strategy = 'mean')\n",
    "# impute.fit(df.iloc[ : , 2:3].values)\n",
    "# df.iloc[ : , 2:3] = impute.transform(df.iloc[ : , 2:3].values)\n",
    "# df.head()"
   ]
  },
  {
   "cell_type": "code",
   "execution_count": null,
   "id": "65e208a4-29c1-4816-b963-f71dd89a7b10",
   "metadata": {},
   "outputs": [],
   "source": [
    "# Remove any rows that still contain NaN values (from other columns)\n",
    "df = df.dropna()"
   ]
  },
  {
   "cell_type": "code",
   "execution_count": null,
   "id": "75e412ea-0141-4d52-b06e-acc8552c8478",
   "metadata": {},
   "outputs": [],
   "source": [
    "# final check of missing values in each column.\n",
    "df.isnull().sum()"
   ]
  },
  {
   "cell_type": "markdown",
   "id": "f5a13694-400c-474a-81f7-d4305895907e",
   "metadata": {},
   "source": [
    "# Exporting the Cleaned Dataset to CSV"
   ]
  },
  {
   "cell_type": "code",
   "execution_count": null,
   "id": "7df7a4c4-e231-4d76-9fa6-912bbc188a5f",
   "metadata": {},
   "outputs": [],
   "source": [
    "data.to_csv('google_play_store_data_cleaned.csv', index=False)"
   ]
  }
 ],
 "metadata": {
  "kernelspec": {
   "display_name": "Python 3 (ipykernel)",
   "language": "python",
   "name": "python3"
  },
  "language_info": {
   "codemirror_mode": {
    "name": "ipython",
    "version": 3
   },
   "file_extension": ".py",
   "mimetype": "text/x-python",
   "name": "python",
   "nbconvert_exporter": "python",
   "pygments_lexer": "ipython3",
   "version": "3.13.5"
  }
 },
 "nbformat": 4,
 "nbformat_minor": 5
}
